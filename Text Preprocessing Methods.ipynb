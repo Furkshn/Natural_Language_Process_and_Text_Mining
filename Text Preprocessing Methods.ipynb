{
 "cells": [
  {
   "cell_type": "markdown",
   "metadata": {},
   "source": [
    "# -----------------------------------------------------\n",
    "\n",
    "#             Text Analitiği Çalışma Kodları\n",
    "\n",
    "# -----------------------------------------------------\n"
   ]
  },
  {
   "cell_type": "code",
   "execution_count": 68,
   "metadata": {},
   "outputs": [],
   "source": [
    "import pandas as pd\n",
    "import numpy as np\n",
    "from nltk.corpus import stopwords\n",
    "import warnings "
   ]
  },
  {
   "cell_type": "code",
   "execution_count": null,
   "metadata": {},
   "outputs": [],
   "source": [
    "## --------------------------------------------------------------------------------------------------------------------\n",
    "\n",
    "\n",
    "\n",
    "    \"\"\" How do we organize string data in the Natural Language Processing process? \n",
    "\n",
    "                                  I would like to share with you a few methods related to this subject. \"\"\"\n",
    "\n",
    "\n",
    "## --------------------------------------------------------------------------------------------------------------------\n",
    "\n"
   ]
  },
  {
   "cell_type": "code",
   "execution_count": 3,
   "metadata": {},
   "outputs": [],
   "source": [
    "\n",
    " \n",
    "# Bitcoin Article    \n",
    "    \n",
    "article =   \"\"\"With the price of a bitcoin surging to new highs in 2017, the bullish case for investors might seem so obvious it does not need stating. \n",
    "Alternatively it may seem foolish to invest in a digital asset that isn’t backed by any commodity or government and whose price rise has prompted some to compare it to the tulip mania or the dot-com bubble. \n",
    "Neither is true; the bullish case for Bitcoin is compelling but far from obvious. There are significant risks to investing in Bitcoin, but, as I will argue, there is still an immense opportunity.\n",
    "Never in the history of the world had it been possible to transfer value between distant peoples without relying on a trusted intermediary, such as a bank or government. \n",
    "In 2008 Satoshi Nakamoto, whose identity is still unknown, published a 9 page solution to a long-standing problem of computer science known as the Byzantine General’s Problem. \n",
    "Nakamoto’s solution and the system he built from it — Bitcoin — allowed, for the first time ever, value to be quickly transferred, at great distance, in a completely trustless way. \n",
    "The ramifications of the creation of Bitcoin are so profound for both economics and computer science that Nakamoto should rightly be the first person to qualify for both a Nobel prize in Economics and the Turing award.\n",
    "For an investor the salient fact of the invention of Bitcoin is the creation of a new scarce digital good — bitcoins. \n",
    "Bitcoins are transferable digital tokens that are created on the Bitcoin network in a process known as “mining”. \n",
    "Bitcoin mining is roughly analogous to gold mining except that production follows a designed, predictable schedule. \n",
    "By design, only 21 million bitcoins will ever be mined and most of these already have been — approximately 16.8 million bitcoins have been mined at the time of writing. \n",
    "Every four years the number of bitcoins produced by mining halves and the production of new bitcoins will end completely by the year 2140.\"\"\"\n",
    "\n",
    "\n"
   ]
  },
  {
   "cell_type": "code",
   "execution_count": 8,
   "metadata": {},
   "outputs": [
    {
     "data": {
      "text/plain": [
       "['With the price of a bitcoin surging to new highs in 2017, the bullish case for investors might seem so obvious it does not need stating. ',\n",
       " 'Alternatively it may seem foolish to invest in a digital asset that isn’t backed by any commodity or government and whose price rise has prompted some to compare it to the tulip mania or the dot-com bubble. ',\n",
       " 'Neither is true; the bullish case for Bitcoin is compelling but far from obvious. There are significant risks to investing in Bitcoin, but, as I will argue, there is still an immense opportunity.',\n",
       " 'Never in the history of the world had it been possible to transfer value between distant peoples without relying on a trusted intermediary, such as a bank or government. ',\n",
       " 'In 2008 Satoshi Nakamoto, whose identity is still unknown, published a 9 page solution to a long-standing problem of computer science known as the Byzantine General’s Problem. ',\n",
       " 'Nakamoto’s solution and the system he built from it — Bitcoin — allowed, for the first time ever, value to be quickly transferred, at great distance, in a completely trustless way. ',\n",
       " 'The ramifications of the creation of Bitcoin are so profound for both economics and computer science that Nakamoto should rightly be the first person to qualify for both a Nobel prize in Economics and the Turing award.',\n",
       " 'For an investor the salient fact of the invention of Bitcoin is the creation of a new scarce digital good — bitcoins. ',\n",
       " 'Bitcoins are transferable digital tokens that are created on the Bitcoin network in a process known as “mining”. ',\n",
       " 'Bitcoin mining is roughly analogous to gold mining except that production follows a designed, predictable schedule. ',\n",
       " 'By design, only 21 million bitcoins will ever be mined and most of these already have been — approximately 16.8 million bitcoins have been mined at the time of writing. ',\n",
       " 'Every four years the number of bitcoins produced by mining halves and the production of new bitcoins will end completely by the year 2140.']"
      ]
     },
     "execution_count": 8,
     "metadata": {},
     "output_type": "execute_result"
    }
   ],
   "source": [
    "article.split(\"\\n\")    # We separate the string statements inside the article variable with the \".split()\" function."
   ]
  },
  {
   "cell_type": "code",
   "execution_count": 10,
   "metadata": {},
   "outputs": [
    {
     "data": {
      "text/plain": [
       "0     With the price of a bitcoin surging to new hig...\n",
       "1     Alternatively it may seem foolish to invest in...\n",
       "2     Neither is true; the bullish case for Bitcoin ...\n",
       "3     Never in the history of the world had it been ...\n",
       "4     In 2008 Satoshi Nakamoto, whose identity is st...\n",
       "5     Nakamoto’s solution and the system he built fr...\n",
       "6     The ramifications of the creation of Bitcoin a...\n",
       "7     For an investor the salient fact of the invent...\n",
       "8     Bitcoins are transferable digital tokens that ...\n",
       "9     Bitcoin mining is roughly analogous to gold mi...\n",
       "10    By design, only 21 million bitcoins will ever ...\n",
       "11    Every four years the number of bitcoins produc...\n",
       "dtype: object"
      ]
     },
     "execution_count": 10,
     "metadata": {},
     "output_type": "execute_result"
    }
   ],
   "source": [
    "string_series = pd.Series(article.split(\"\\n\"))    # Pandas Series Form\n",
    "string_series"
   ]
  },
  {
   "cell_type": "code",
   "execution_count": 11,
   "metadata": {},
   "outputs": [
    {
     "data": {
      "text/html": [
       "<div>\n",
       "<style scoped>\n",
       "    .dataframe tbody tr th:only-of-type {\n",
       "        vertical-align: middle;\n",
       "    }\n",
       "\n",
       "    .dataframe tbody tr th {\n",
       "        vertical-align: top;\n",
       "    }\n",
       "\n",
       "    .dataframe thead th {\n",
       "        text-align: right;\n",
       "    }\n",
       "</style>\n",
       "<table border=\"1\" class=\"dataframe\">\n",
       "  <thead>\n",
       "    <tr style=\"text-align: right;\">\n",
       "      <th></th>\n",
       "      <th>Bitcoin</th>\n",
       "    </tr>\n",
       "  </thead>\n",
       "  <tbody>\n",
       "    <tr>\n",
       "      <td>0</td>\n",
       "      <td>With the price of a bitcoin surging to new hig...</td>\n",
       "    </tr>\n",
       "    <tr>\n",
       "      <td>1</td>\n",
       "      <td>Alternatively it may seem foolish to invest in...</td>\n",
       "    </tr>\n",
       "    <tr>\n",
       "      <td>2</td>\n",
       "      <td>Neither is true; the bullish case for Bitcoin ...</td>\n",
       "    </tr>\n",
       "    <tr>\n",
       "      <td>3</td>\n",
       "      <td>Never in the history of the world had it been ...</td>\n",
       "    </tr>\n",
       "    <tr>\n",
       "      <td>4</td>\n",
       "      <td>In 2008 Satoshi Nakamoto, whose identity is st...</td>\n",
       "    </tr>\n",
       "    <tr>\n",
       "      <td>5</td>\n",
       "      <td>Nakamoto’s solution and the system he built fr...</td>\n",
       "    </tr>\n",
       "    <tr>\n",
       "      <td>6</td>\n",
       "      <td>The ramifications of the creation of Bitcoin a...</td>\n",
       "    </tr>\n",
       "    <tr>\n",
       "      <td>7</td>\n",
       "      <td>For an investor the salient fact of the invent...</td>\n",
       "    </tr>\n",
       "    <tr>\n",
       "      <td>8</td>\n",
       "      <td>Bitcoins are transferable digital tokens that ...</td>\n",
       "    </tr>\n",
       "    <tr>\n",
       "      <td>9</td>\n",
       "      <td>Bitcoin mining is roughly analogous to gold mi...</td>\n",
       "    </tr>\n",
       "    <tr>\n",
       "      <td>10</td>\n",
       "      <td>By design, only 21 million bitcoins will ever ...</td>\n",
       "    </tr>\n",
       "    <tr>\n",
       "      <td>11</td>\n",
       "      <td>Every four years the number of bitcoins produc...</td>\n",
       "    </tr>\n",
       "  </tbody>\n",
       "</table>\n",
       "</div>"
      ],
      "text/plain": [
       "                                              Bitcoin\n",
       "0   With the price of a bitcoin surging to new hig...\n",
       "1   Alternatively it may seem foolish to invest in...\n",
       "2   Neither is true; the bullish case for Bitcoin ...\n",
       "3   Never in the history of the world had it been ...\n",
       "4   In 2008 Satoshi Nakamoto, whose identity is st...\n",
       "5   Nakamoto’s solution and the system he built fr...\n",
       "6   The ramifications of the creation of Bitcoin a...\n",
       "7   For an investor the salient fact of the invent...\n",
       "8   Bitcoins are transferable digital tokens that ...\n",
       "9   Bitcoin mining is roughly analogous to gold mi...\n",
       "10  By design, only 21 million bitcoins will ever ...\n",
       "11  Every four years the number of bitcoins produc..."
      ]
     },
     "execution_count": 11,
     "metadata": {},
     "output_type": "execute_result"
    }
   ],
   "source": [
    "article_df = pd.DataFrame(string_series, columns = [\"Bitcoin\"])    # DataFrame Form\n",
    "article_df"
   ]
  },
  {
   "cell_type": "markdown",
   "metadata": {},
   "source": [
    "## -----------------------------------------------------------\n",
    " \n",
    "## String-Lower Process\n",
    "\n",
    "## -----------------------------------------------------------\n"
   ]
  },
  {
   "cell_type": "code",
   "execution_count": 22,
   "metadata": {},
   "outputs": [
    {
     "data": {
      "text/plain": [
       "0     with the price of a bitcoin surging to new hig...\n",
       "1     alternatively it may seem foolish to invest in...\n",
       "2     neither is true; the bullish case for bitcoin ...\n",
       "3     never in the history of the world had it been ...\n",
       "4     in 2008 satoshi nakamoto, whose identity is st...\n",
       "5     nakamoto’s solution and the system he built fr...\n",
       "6     the ramifications of the creation of bitcoin a...\n",
       "7     for an investor the salient fact of the invent...\n",
       "8     bitcoins are transferable digital tokens that ...\n",
       "9     bitcoin mining is roughly analogous to gold mi...\n",
       "10    by design, only 21 million bitcoins will ever ...\n",
       "11    every four years the number of bitcoins produc...\n",
       "Name: Bitcoin, dtype: object"
      ]
     },
     "execution_count": 22,
     "metadata": {},
     "output_type": "execute_result"
    }
   ],
   "source": [
    "lower_process = article_df[\"Bitcoin\"].apply(lambda x: \" \".join(x.lower() for x in x.split()))  \n",
    "\n",
    "\n",
    "# The sentences in each line are split with the \".split ()\" function and put into a list.\n",
    "\n",
    "# With the \".lower ()\" function, the initial letter of each word in the list is reduced and the words in the list are combined with the last \".join ()\" function.\n",
    "\n",
    "\n",
    "lower_process"
   ]
  },
  {
   "cell_type": "code",
   "execution_count": 19,
   "metadata": {},
   "outputs": [
    {
     "data": {
      "text/html": [
       "<div>\n",
       "<style scoped>\n",
       "    .dataframe tbody tr th:only-of-type {\n",
       "        vertical-align: middle;\n",
       "    }\n",
       "\n",
       "    .dataframe tbody tr th {\n",
       "        vertical-align: top;\n",
       "    }\n",
       "\n",
       "    .dataframe thead th {\n",
       "        text-align: right;\n",
       "    }\n",
       "</style>\n",
       "<table border=\"1\" class=\"dataframe\">\n",
       "  <thead>\n",
       "    <tr style=\"text-align: right;\">\n",
       "      <th></th>\n",
       "      <th>Bitcoin</th>\n",
       "    </tr>\n",
       "  </thead>\n",
       "  <tbody>\n",
       "    <tr>\n",
       "      <td>0</td>\n",
       "      <td>with the price of a bitcoin surging to new hig...</td>\n",
       "    </tr>\n",
       "    <tr>\n",
       "      <td>1</td>\n",
       "      <td>alternatively it may seem foolish to invest in...</td>\n",
       "    </tr>\n",
       "    <tr>\n",
       "      <td>2</td>\n",
       "      <td>neither is true; the bullish case for bitcoin ...</td>\n",
       "    </tr>\n",
       "    <tr>\n",
       "      <td>3</td>\n",
       "      <td>never in the history of the world had it been ...</td>\n",
       "    </tr>\n",
       "    <tr>\n",
       "      <td>4</td>\n",
       "      <td>in 2008 satoshi nakamoto, whose identity is st...</td>\n",
       "    </tr>\n",
       "    <tr>\n",
       "      <td>5</td>\n",
       "      <td>nakamoto’s solution and the system he built fr...</td>\n",
       "    </tr>\n",
       "    <tr>\n",
       "      <td>6</td>\n",
       "      <td>the ramifications of the creation of bitcoin a...</td>\n",
       "    </tr>\n",
       "    <tr>\n",
       "      <td>7</td>\n",
       "      <td>for an investor the salient fact of the invent...</td>\n",
       "    </tr>\n",
       "    <tr>\n",
       "      <td>8</td>\n",
       "      <td>bitcoins are transferable digital tokens that ...</td>\n",
       "    </tr>\n",
       "    <tr>\n",
       "      <td>9</td>\n",
       "      <td>bitcoin mining is roughly analogous to gold mi...</td>\n",
       "    </tr>\n",
       "    <tr>\n",
       "      <td>10</td>\n",
       "      <td>by design, only 21 million bitcoins will ever ...</td>\n",
       "    </tr>\n",
       "    <tr>\n",
       "      <td>11</td>\n",
       "      <td>every four years the number of bitcoins produc...</td>\n",
       "    </tr>\n",
       "  </tbody>\n",
       "</table>\n",
       "</div>"
      ],
      "text/plain": [
       "                                              Bitcoin\n",
       "0   with the price of a bitcoin surging to new hig...\n",
       "1   alternatively it may seem foolish to invest in...\n",
       "2   neither is true; the bullish case for bitcoin ...\n",
       "3   never in the history of the world had it been ...\n",
       "4   in 2008 satoshi nakamoto, whose identity is st...\n",
       "5   nakamoto’s solution and the system he built fr...\n",
       "6   the ramifications of the creation of bitcoin a...\n",
       "7   for an investor the salient fact of the invent...\n",
       "8   bitcoins are transferable digital tokens that ...\n",
       "9   bitcoin mining is roughly analogous to gold mi...\n",
       "10  by design, only 21 million bitcoins will ever ...\n",
       "11  every four years the number of bitcoins produc..."
      ]
     },
     "execution_count": 19,
     "metadata": {},
     "output_type": "execute_result"
    }
   ],
   "source": [
    "article_df = pd.DataFrame(lower_process, columns = [\"Bitcoin\"])   # DataFrame Form\n",
    "article_df"
   ]
  },
  {
   "cell_type": "markdown",
   "metadata": {},
   "source": [
    "## -----------------------------------------------------------\n",
    "\n",
    "## Deleting Characters Such As Commas and Hyphens\n",
    "\n",
    "## -----------------------------------------------------------\n"
   ]
  },
  {
   "cell_type": "code",
   "execution_count": 24,
   "metadata": {},
   "outputs": [
    {
     "data": {
      "text/plain": [
       "0     with the price of a bitcoin surging to new hig...\n",
       "1     alternatively it may seem foolish to invest in...\n",
       "2     neither is true the bullish case for bitcoin i...\n",
       "3     never in the history of the world had it been ...\n",
       "4     in 2008 satoshi nakamoto whose identity is sti...\n",
       "5     nakamotos solution and the system he built fro...\n",
       "6     the ramifications of the creation of bitcoin a...\n",
       "7     for an investor the salient fact of the invent...\n",
       "8     bitcoins are transferable digital tokens that ...\n",
       "9     bitcoin mining is roughly analogous to gold mi...\n",
       "10    by design only 21 million bitcoins will ever b...\n",
       "11    every four years the number of bitcoins produc...\n",
       "Name: Bitcoin, dtype: object"
      ]
     },
     "execution_count": 24,
     "metadata": {},
     "output_type": "execute_result"
    }
   ],
   "source": [
    "commas_process = article_df[\"Bitcoin\"].str.replace(\"[^\\w\\s]\",\"\")   # Marks such as commas and dashes are replaced with spaces.\n",
    "commas_process"
   ]
  },
  {
   "cell_type": "code",
   "execution_count": 25,
   "metadata": {},
   "outputs": [
    {
     "data": {
      "text/html": [
       "<div>\n",
       "<style scoped>\n",
       "    .dataframe tbody tr th:only-of-type {\n",
       "        vertical-align: middle;\n",
       "    }\n",
       "\n",
       "    .dataframe tbody tr th {\n",
       "        vertical-align: top;\n",
       "    }\n",
       "\n",
       "    .dataframe thead th {\n",
       "        text-align: right;\n",
       "    }\n",
       "</style>\n",
       "<table border=\"1\" class=\"dataframe\">\n",
       "  <thead>\n",
       "    <tr style=\"text-align: right;\">\n",
       "      <th></th>\n",
       "      <th>Bitcoin</th>\n",
       "    </tr>\n",
       "  </thead>\n",
       "  <tbody>\n",
       "    <tr>\n",
       "      <td>0</td>\n",
       "      <td>with the price of a bitcoin surging to new hig...</td>\n",
       "    </tr>\n",
       "    <tr>\n",
       "      <td>1</td>\n",
       "      <td>alternatively it may seem foolish to invest in...</td>\n",
       "    </tr>\n",
       "    <tr>\n",
       "      <td>2</td>\n",
       "      <td>neither is true the bullish case for bitcoin i...</td>\n",
       "    </tr>\n",
       "    <tr>\n",
       "      <td>3</td>\n",
       "      <td>never in the history of the world had it been ...</td>\n",
       "    </tr>\n",
       "    <tr>\n",
       "      <td>4</td>\n",
       "      <td>in 2008 satoshi nakamoto whose identity is sti...</td>\n",
       "    </tr>\n",
       "    <tr>\n",
       "      <td>5</td>\n",
       "      <td>nakamotos solution and the system he built fro...</td>\n",
       "    </tr>\n",
       "    <tr>\n",
       "      <td>6</td>\n",
       "      <td>the ramifications of the creation of bitcoin a...</td>\n",
       "    </tr>\n",
       "    <tr>\n",
       "      <td>7</td>\n",
       "      <td>for an investor the salient fact of the invent...</td>\n",
       "    </tr>\n",
       "    <tr>\n",
       "      <td>8</td>\n",
       "      <td>bitcoins are transferable digital tokens that ...</td>\n",
       "    </tr>\n",
       "    <tr>\n",
       "      <td>9</td>\n",
       "      <td>bitcoin mining is roughly analogous to gold mi...</td>\n",
       "    </tr>\n",
       "    <tr>\n",
       "      <td>10</td>\n",
       "      <td>by design only 21 million bitcoins will ever b...</td>\n",
       "    </tr>\n",
       "    <tr>\n",
       "      <td>11</td>\n",
       "      <td>every four years the number of bitcoins produc...</td>\n",
       "    </tr>\n",
       "  </tbody>\n",
       "</table>\n",
       "</div>"
      ],
      "text/plain": [
       "                                              Bitcoin\n",
       "0   with the price of a bitcoin surging to new hig...\n",
       "1   alternatively it may seem foolish to invest in...\n",
       "2   neither is true the bullish case for bitcoin i...\n",
       "3   never in the history of the world had it been ...\n",
       "4   in 2008 satoshi nakamoto whose identity is sti...\n",
       "5   nakamotos solution and the system he built fro...\n",
       "6   the ramifications of the creation of bitcoin a...\n",
       "7   for an investor the salient fact of the invent...\n",
       "8   bitcoins are transferable digital tokens that ...\n",
       "9   bitcoin mining is roughly analogous to gold mi...\n",
       "10  by design only 21 million bitcoins will ever b...\n",
       "11  every four years the number of bitcoins produc..."
      ]
     },
     "execution_count": 25,
     "metadata": {},
     "output_type": "execute_result"
    }
   ],
   "source": [
    "article_df = pd.DataFrame(commas_process, columns = [\"Bitcoin\"])   # DataFrame Form\n",
    "article_df"
   ]
  },
  {
   "cell_type": "markdown",
   "metadata": {},
   "source": [
    "## -----------------------------------------------------------\n",
    "\n",
    "\n",
    "## Deleting Numbers\n",
    "\n",
    "## -----------------------------------------------------------\n"
   ]
  },
  {
   "cell_type": "code",
   "execution_count": 27,
   "metadata": {},
   "outputs": [
    {
     "data": {
      "text/plain": [
       "0     with the price of a bitcoin surging to new hig...\n",
       "1     alternatively it may seem foolish to invest in...\n",
       "2     neither is true the bullish case for bitcoin i...\n",
       "3     never in the history of the world had it been ...\n",
       "4     in  satoshi nakamoto whose identity is still u...\n",
       "5     nakamotos solution and the system he built fro...\n",
       "6     the ramifications of the creation of bitcoin a...\n",
       "7     for an investor the salient fact of the invent...\n",
       "8     bitcoins are transferable digital tokens that ...\n",
       "9     bitcoin mining is roughly analogous to gold mi...\n",
       "10    by design only  million bitcoins will ever be ...\n",
       "11    every four years the number of bitcoins produc...\n",
       "Name: Bitcoin, dtype: object"
      ]
     },
     "execution_count": 27,
     "metadata": {},
     "output_type": "execute_result"
    }
   ],
   "source": [
    "\n",
    "deleting_process = article_df[\"Bitcoin\"].str.replace(\"\\d\",\"\")    # Numbers Inside Each Row Deleted\n",
    "deleting_process"
   ]
  },
  {
   "cell_type": "code",
   "execution_count": 32,
   "metadata": {},
   "outputs": [
    {
     "data": {
      "text/html": [
       "<div>\n",
       "<style scoped>\n",
       "    .dataframe tbody tr th:only-of-type {\n",
       "        vertical-align: middle;\n",
       "    }\n",
       "\n",
       "    .dataframe tbody tr th {\n",
       "        vertical-align: top;\n",
       "    }\n",
       "\n",
       "    .dataframe thead th {\n",
       "        text-align: right;\n",
       "    }\n",
       "</style>\n",
       "<table border=\"1\" class=\"dataframe\">\n",
       "  <thead>\n",
       "    <tr style=\"text-align: right;\">\n",
       "      <th></th>\n",
       "      <th>Bitcoin</th>\n",
       "    </tr>\n",
       "  </thead>\n",
       "  <tbody>\n",
       "    <tr>\n",
       "      <td>0</td>\n",
       "      <td>with the price of a bitcoin surging to new hig...</td>\n",
       "    </tr>\n",
       "    <tr>\n",
       "      <td>1</td>\n",
       "      <td>alternatively it may seem foolish to invest in...</td>\n",
       "    </tr>\n",
       "    <tr>\n",
       "      <td>2</td>\n",
       "      <td>neither is true the bullish case for bitcoin i...</td>\n",
       "    </tr>\n",
       "    <tr>\n",
       "      <td>3</td>\n",
       "      <td>never in the history of the world had it been ...</td>\n",
       "    </tr>\n",
       "    <tr>\n",
       "      <td>4</td>\n",
       "      <td>in  satoshi nakamoto whose identity is still u...</td>\n",
       "    </tr>\n",
       "    <tr>\n",
       "      <td>5</td>\n",
       "      <td>nakamotos solution and the system he built fro...</td>\n",
       "    </tr>\n",
       "    <tr>\n",
       "      <td>6</td>\n",
       "      <td>the ramifications of the creation of bitcoin a...</td>\n",
       "    </tr>\n",
       "    <tr>\n",
       "      <td>7</td>\n",
       "      <td>for an investor the salient fact of the invent...</td>\n",
       "    </tr>\n",
       "    <tr>\n",
       "      <td>8</td>\n",
       "      <td>bitcoins are transferable digital tokens that ...</td>\n",
       "    </tr>\n",
       "    <tr>\n",
       "      <td>9</td>\n",
       "      <td>bitcoin mining is roughly analogous to gold mi...</td>\n",
       "    </tr>\n",
       "    <tr>\n",
       "      <td>10</td>\n",
       "      <td>by design only  million bitcoins will ever be ...</td>\n",
       "    </tr>\n",
       "    <tr>\n",
       "      <td>11</td>\n",
       "      <td>every four years the number of bitcoins produc...</td>\n",
       "    </tr>\n",
       "  </tbody>\n",
       "</table>\n",
       "</div>"
      ],
      "text/plain": [
       "                                              Bitcoin\n",
       "0   with the price of a bitcoin surging to new hig...\n",
       "1   alternatively it may seem foolish to invest in...\n",
       "2   neither is true the bullish case for bitcoin i...\n",
       "3   never in the history of the world had it been ...\n",
       "4   in  satoshi nakamoto whose identity is still u...\n",
       "5   nakamotos solution and the system he built fro...\n",
       "6   the ramifications of the creation of bitcoin a...\n",
       "7   for an investor the salient fact of the invent...\n",
       "8   bitcoins are transferable digital tokens that ...\n",
       "9   bitcoin mining is roughly analogous to gold mi...\n",
       "10  by design only  million bitcoins will ever be ...\n",
       "11  every four years the number of bitcoins produc..."
      ]
     },
     "execution_count": 32,
     "metadata": {},
     "output_type": "execute_result"
    }
   ],
   "source": [
    "article_df = pd.DataFrame(deleting_process, columns = [\"Bitcoin\"])    # DataFrame Form\n",
    "article_df"
   ]
  },
  {
   "cell_type": "markdown",
   "metadata": {},
   "source": [
    "## -----------------------------------------------------------\n",
    "\n",
    "\n",
    "## Deleting Stop Words\n",
    "\n",
    "## -----------------------------------------------------------\n"
   ]
  },
  {
   "cell_type": "code",
   "execution_count": 31,
   "metadata": {},
   "outputs": [
    {
     "data": {
      "text/plain": [
       "['i', 'me', 'my', 'myself', 'we', 'our', 'ours', 'ourselves', 'you', \"you're\"]"
      ]
     },
     "execution_count": 31,
     "metadata": {},
     "output_type": "execute_result"
    }
   ],
   "source": [
    "\n",
    "\n",
    "words = stopwords.words(\"english\")    # English Language Stopwords\n",
    "words[:10]\n",
    "\n"
   ]
  },
  {
   "cell_type": "code",
   "execution_count": 38,
   "metadata": {},
   "outputs": [
    {
     "data": {
      "text/plain": [
       "0     price bitcoin surging new highs bullish case i...\n",
       "1     alternatively may seem foolish invest digital ...\n",
       "2     neither true bullish case bitcoin compelling f...\n",
       "3     never history world possible transfer value di...\n",
       "4     satoshi nakamoto whose identity still unknown ...\n",
       "5     nakamotos solution system built bitcoin allowe...\n",
       "6     ramifications creation bitcoin profound econom...\n",
       "7     investor salient fact invention bitcoin creati...\n",
       "8     bitcoins transferable digital tokens created b...\n",
       "9     bitcoin mining roughly analogous gold mining e...\n",
       "10    design million bitcoins ever mined already app...\n",
       "11    every four years number bitcoins produced mini...\n",
       "Name: Bitcoin, dtype: object"
      ]
     },
     "execution_count": 38,
     "metadata": {},
     "output_type": "execute_result"
    }
   ],
   "source": [
    "stopwords_process = article_df[\"Bitcoin\"].apply(lambda x: \" \".join(x for x in x.split() if x not in words))\n",
    "stopwords_process"
   ]
  },
  {
   "cell_type": "code",
   "execution_count": 39,
   "metadata": {},
   "outputs": [
    {
     "data": {
      "text/html": [
       "<div>\n",
       "<style scoped>\n",
       "    .dataframe tbody tr th:only-of-type {\n",
       "        vertical-align: middle;\n",
       "    }\n",
       "\n",
       "    .dataframe tbody tr th {\n",
       "        vertical-align: top;\n",
       "    }\n",
       "\n",
       "    .dataframe thead th {\n",
       "        text-align: right;\n",
       "    }\n",
       "</style>\n",
       "<table border=\"1\" class=\"dataframe\">\n",
       "  <thead>\n",
       "    <tr style=\"text-align: right;\">\n",
       "      <th></th>\n",
       "      <th>Bitcoin</th>\n",
       "    </tr>\n",
       "  </thead>\n",
       "  <tbody>\n",
       "    <tr>\n",
       "      <td>0</td>\n",
       "      <td>price bitcoin surging new highs bullish case i...</td>\n",
       "    </tr>\n",
       "    <tr>\n",
       "      <td>1</td>\n",
       "      <td>alternatively may seem foolish invest digital ...</td>\n",
       "    </tr>\n",
       "    <tr>\n",
       "      <td>2</td>\n",
       "      <td>neither true bullish case bitcoin compelling f...</td>\n",
       "    </tr>\n",
       "    <tr>\n",
       "      <td>3</td>\n",
       "      <td>never history world possible transfer value di...</td>\n",
       "    </tr>\n",
       "    <tr>\n",
       "      <td>4</td>\n",
       "      <td>satoshi nakamoto whose identity still unknown ...</td>\n",
       "    </tr>\n",
       "    <tr>\n",
       "      <td>5</td>\n",
       "      <td>nakamotos solution system built bitcoin allowe...</td>\n",
       "    </tr>\n",
       "    <tr>\n",
       "      <td>6</td>\n",
       "      <td>ramifications creation bitcoin profound econom...</td>\n",
       "    </tr>\n",
       "    <tr>\n",
       "      <td>7</td>\n",
       "      <td>investor salient fact invention bitcoin creati...</td>\n",
       "    </tr>\n",
       "    <tr>\n",
       "      <td>8</td>\n",
       "      <td>bitcoins transferable digital tokens created b...</td>\n",
       "    </tr>\n",
       "    <tr>\n",
       "      <td>9</td>\n",
       "      <td>bitcoin mining roughly analogous gold mining e...</td>\n",
       "    </tr>\n",
       "    <tr>\n",
       "      <td>10</td>\n",
       "      <td>design million bitcoins ever mined already app...</td>\n",
       "    </tr>\n",
       "    <tr>\n",
       "      <td>11</td>\n",
       "      <td>every four years number bitcoins produced mini...</td>\n",
       "    </tr>\n",
       "  </tbody>\n",
       "</table>\n",
       "</div>"
      ],
      "text/plain": [
       "                                              Bitcoin\n",
       "0   price bitcoin surging new highs bullish case i...\n",
       "1   alternatively may seem foolish invest digital ...\n",
       "2   neither true bullish case bitcoin compelling f...\n",
       "3   never history world possible transfer value di...\n",
       "4   satoshi nakamoto whose identity still unknown ...\n",
       "5   nakamotos solution system built bitcoin allowe...\n",
       "6   ramifications creation bitcoin profound econom...\n",
       "7   investor salient fact invention bitcoin creati...\n",
       "8   bitcoins transferable digital tokens created b...\n",
       "9   bitcoin mining roughly analogous gold mining e...\n",
       "10  design million bitcoins ever mined already app...\n",
       "11  every four years number bitcoins produced mini..."
      ]
     },
     "execution_count": 39,
     "metadata": {},
     "output_type": "execute_result"
    }
   ],
   "source": [
    "article_df = pd.DataFrame(stopwords_process, columns = [\"Bitcoin\"])   # DataFrame Form\n",
    "article_df"
   ]
  },
  {
   "cell_type": "markdown",
   "metadata": {},
   "source": [
    "## -----------------------------------------------------------\n",
    "\n",
    "\n",
    "## Deleting Underused Words\n",
    "\n",
    "## -----------------------------------------------------------\n"
   ]
  },
  {
   "cell_type": "code",
   "execution_count": 54,
   "metadata": {},
   "outputs": [
    {
     "data": {
      "text/plain": [
       "bitcoin        216\n",
       "bitcoins       148\n",
       "digital         77\n",
       "mining          74\n",
       "economics       74\n",
       "              ... \n",
       "analogous       16\n",
       "designed        16\n",
       "predictable     16\n",
       "roughly         16\n",
       "follows         16\n",
       "Length: 130, dtype: int64"
      ]
     },
     "execution_count": 54,
     "metadata": {},
     "output_type": "execute_result"
    }
   ],
   "source": [
    "underused_words = pd.Series((\" \".join(article_df[\"Bitcoin\"])).split()).value_counts()    # Frequently Used Words\n",
    "underused_words"
   ]
  },
  {
   "cell_type": "code",
   "execution_count": 58,
   "metadata": {},
   "outputs": [
    {
     "data": {
      "text/plain": [
       "surging         26\n",
       "highs           26\n",
       "investors       26\n",
       "four            24\n",
       "year            24\n",
       "number          24\n",
       "produced        24\n",
       "years           24\n",
       "every           24\n",
       "end             24\n",
       "halves          24\n",
       "invention       22\n",
       "good            22\n",
       "salient         22\n",
       "investor        22\n",
       "scarce          22\n",
       "fact            22\n",
       "network         18\n",
       "tokens          18\n",
       "transferable    18\n",
       "process         18\n",
       "created         18\n",
       "gold            16\n",
       "except          16\n",
       "schedule        16\n",
       "analogous       16\n",
       "designed        16\n",
       "predictable     16\n",
       "roughly         16\n",
       "follows         16\n",
       "dtype: int64"
      ]
     },
     "execution_count": 58,
     "metadata": {},
     "output_type": "execute_result"
    }
   ],
   "source": [
    "underused_words[-30:]   # Least Used First 30 Words"
   ]
  },
  {
   "cell_type": "code",
   "execution_count": 66,
   "metadata": {},
   "outputs": [
    {
     "data": {
      "text/plain": [
       "0     price bitcoin new bullish case might seem obvi...\n",
       "1     alternatively may seem foolish invest digital ...\n",
       "2     neither true bullish case bitcoin compelling f...\n",
       "3     never history world possible transfer value di...\n",
       "4     satoshi nakamoto whose identity still unknown ...\n",
       "5     nakamotos solution system built bitcoin allowe...\n",
       "6     ramifications creation bitcoin profound econom...\n",
       "7     bitcoin creation new digital bitcoins bitcoin ...\n",
       "8     bitcoins digital bitcoin known mining bitcoins...\n",
       "9     bitcoin mining mining production bitcoin minin...\n",
       "10    design million bitcoins ever mined already app...\n",
       "11    bitcoins mining production new bitcoins comple...\n",
       "Name: Bitcoin, dtype: object"
      ]
     },
     "execution_count": 66,
     "metadata": {},
     "output_type": "execute_result"
    }
   ],
   "source": [
    "deleting_process = article_df[\"Bitcoin\"].apply(lambda x: \" \".join(x for x in x.split() if x not in underused_words.index[-30:]))\n",
    "\n",
    "deleting_process          # We have deleted unused words from the list by binding them to the condition."
   ]
  },
  {
   "cell_type": "code",
   "execution_count": 67,
   "metadata": {},
   "outputs": [
    {
     "data": {
      "text/html": [
       "<div>\n",
       "<style scoped>\n",
       "    .dataframe tbody tr th:only-of-type {\n",
       "        vertical-align: middle;\n",
       "    }\n",
       "\n",
       "    .dataframe tbody tr th {\n",
       "        vertical-align: top;\n",
       "    }\n",
       "\n",
       "    .dataframe thead th {\n",
       "        text-align: right;\n",
       "    }\n",
       "</style>\n",
       "<table border=\"1\" class=\"dataframe\">\n",
       "  <thead>\n",
       "    <tr style=\"text-align: right;\">\n",
       "      <th></th>\n",
       "      <th>Bitcoin</th>\n",
       "    </tr>\n",
       "  </thead>\n",
       "  <tbody>\n",
       "    <tr>\n",
       "      <td>0</td>\n",
       "      <td>price bitcoin new bullish case might seem obvi...</td>\n",
       "    </tr>\n",
       "    <tr>\n",
       "      <td>1</td>\n",
       "      <td>alternatively may seem foolish invest digital ...</td>\n",
       "    </tr>\n",
       "    <tr>\n",
       "      <td>2</td>\n",
       "      <td>neither true bullish case bitcoin compelling f...</td>\n",
       "    </tr>\n",
       "    <tr>\n",
       "      <td>3</td>\n",
       "      <td>never history world possible transfer value di...</td>\n",
       "    </tr>\n",
       "    <tr>\n",
       "      <td>4</td>\n",
       "      <td>satoshi nakamoto whose identity still unknown ...</td>\n",
       "    </tr>\n",
       "    <tr>\n",
       "      <td>5</td>\n",
       "      <td>nakamotos solution system built bitcoin allowe...</td>\n",
       "    </tr>\n",
       "    <tr>\n",
       "      <td>6</td>\n",
       "      <td>ramifications creation bitcoin profound econom...</td>\n",
       "    </tr>\n",
       "    <tr>\n",
       "      <td>7</td>\n",
       "      <td>bitcoin creation new digital bitcoins bitcoin ...</td>\n",
       "    </tr>\n",
       "    <tr>\n",
       "      <td>8</td>\n",
       "      <td>bitcoins digital bitcoin known mining bitcoins...</td>\n",
       "    </tr>\n",
       "    <tr>\n",
       "      <td>9</td>\n",
       "      <td>bitcoin mining mining production bitcoin minin...</td>\n",
       "    </tr>\n",
       "    <tr>\n",
       "      <td>10</td>\n",
       "      <td>design million bitcoins ever mined already app...</td>\n",
       "    </tr>\n",
       "    <tr>\n",
       "      <td>11</td>\n",
       "      <td>bitcoins mining production new bitcoins comple...</td>\n",
       "    </tr>\n",
       "  </tbody>\n",
       "</table>\n",
       "</div>"
      ],
      "text/plain": [
       "                                              Bitcoin\n",
       "0   price bitcoin new bullish case might seem obvi...\n",
       "1   alternatively may seem foolish invest digital ...\n",
       "2   neither true bullish case bitcoin compelling f...\n",
       "3   never history world possible transfer value di...\n",
       "4   satoshi nakamoto whose identity still unknown ...\n",
       "5   nakamotos solution system built bitcoin allowe...\n",
       "6   ramifications creation bitcoin profound econom...\n",
       "7   bitcoin creation new digital bitcoins bitcoin ...\n",
       "8   bitcoins digital bitcoin known mining bitcoins...\n",
       "9   bitcoin mining mining production bitcoin minin...\n",
       "10  design million bitcoins ever mined already app...\n",
       "11  bitcoins mining production new bitcoins comple..."
      ]
     },
     "execution_count": 67,
     "metadata": {},
     "output_type": "execute_result"
    }
   ],
   "source": [
    "article_df = pd.DataFrame(deleting_process, columns = [\"Bitcoin\"])    # DataFrame Form\n",
    "article_df  "
   ]
  },
  {
   "cell_type": "code",
   "execution_count": null,
   "metadata": {},
   "outputs": [],
   "source": []
  }
 ],
 "metadata": {
  "kernelspec": {
   "display_name": "Python 3",
   "language": "python",
   "name": "python3"
  },
  "language_info": {
   "codemirror_mode": {
    "name": "ipython",
    "version": 3
   },
   "file_extension": ".py",
   "mimetype": "text/x-python",
   "name": "python",
   "nbconvert_exporter": "python",
   "pygments_lexer": "ipython3",
   "version": "3.7.4"
  }
 },
 "nbformat": 4,
 "nbformat_minor": 4
}
